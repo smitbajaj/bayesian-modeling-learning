{
  "nbformat": 4,
  "nbformat_minor": 0,
  "metadata": {
    "colab": {
      "provenance": [],
      "machine_shape": "hm",
      "gpuType": "L4",
      "authorship_tag": "ABX9TyOQqXKslcnUEvYOoY0Ovtk7",
      "include_colab_link": true
    },
    "kernelspec": {
      "name": "python3",
      "display_name": "Python 3"
    },
    "language_info": {
      "name": "python"
    },
    "accelerator": "GPU",
    "widgets": {
      "application/vnd.jupyter.widget-state+json": {
        "e3f21d3c27b74abca36123391a9b8b1e": {
          "model_module": "@jupyter-widgets/output",
          "model_name": "OutputModel",
          "model_module_version": "1.0.0",
          "state": {
            "_dom_classes": [],
            "_model_module": "@jupyter-widgets/output",
            "_model_module_version": "1.0.0",
            "_model_name": "OutputModel",
            "_view_count": null,
            "_view_module": "@jupyter-widgets/output",
            "_view_module_version": "1.0.0",
            "_view_name": "OutputView",
            "layout": "IPY_MODEL_7b7d91abd1754c5fb3e1b8027ae70c74",
            "msg_id": "",
            "outputs": [
              {
                "output_type": "display_data",
                "data": {
                  "text/plain": "Sampling 4 chains, 0 divergences \u001b[32m━━━━━━━━━━━━━━━━━━━━━━━━━━━━━━━━━━━━━━━━\u001b[0m \u001b[35m100%\u001b[0m \u001b[36m0:00:00\u001b[0m / \u001b[33m0:00:11\u001b[0m\n",
                  "text/html": "<pre style=\"white-space:pre;overflow-x:auto;line-height:normal;font-family:Menlo,'DejaVu Sans Mono',consolas,'Courier New',monospace\">Sampling 4 chains, 0 divergences <span style=\"color: #008000; text-decoration-color: #008000\">━━━━━━━━━━━━━━━━━━━━━━━━━━━━━━━━━━━━━━━━</span> <span style=\"color: #800080; text-decoration-color: #800080\">100%</span> <span style=\"color: #008080; text-decoration-color: #008080\">0:00:00</span> / <span style=\"color: #808000; text-decoration-color: #808000\">0:00:11</span>\n</pre>\n"
                },
                "metadata": {}
              }
            ]
          }
        },
        "7b7d91abd1754c5fb3e1b8027ae70c74": {
          "model_module": "@jupyter-widgets/base",
          "model_name": "LayoutModel",
          "model_module_version": "1.2.0",
          "state": {
            "_model_module": "@jupyter-widgets/base",
            "_model_module_version": "1.2.0",
            "_model_name": "LayoutModel",
            "_view_count": null,
            "_view_module": "@jupyter-widgets/base",
            "_view_module_version": "1.2.0",
            "_view_name": "LayoutView",
            "align_content": null,
            "align_items": null,
            "align_self": null,
            "border": null,
            "bottom": null,
            "display": null,
            "flex": null,
            "flex_flow": null,
            "grid_area": null,
            "grid_auto_columns": null,
            "grid_auto_flow": null,
            "grid_auto_rows": null,
            "grid_column": null,
            "grid_gap": null,
            "grid_row": null,
            "grid_template_areas": null,
            "grid_template_columns": null,
            "grid_template_rows": null,
            "height": null,
            "justify_content": null,
            "justify_items": null,
            "left": null,
            "margin": null,
            "max_height": null,
            "max_width": null,
            "min_height": null,
            "min_width": null,
            "object_fit": null,
            "object_position": null,
            "order": null,
            "overflow": null,
            "overflow_x": null,
            "overflow_y": null,
            "padding": null,
            "right": null,
            "top": null,
            "visibility": null,
            "width": null
          }
        }
      }
    }
  },
  "cells": [
    {
      "cell_type": "markdown",
      "metadata": {
        "id": "view-in-github",
        "colab_type": "text"
      },
      "source": [
        "<a href=\"https://colab.research.google.com/github/smitbajaj/phillies-learning/blob/main/hierarchical_fonnesbeck.ipynb\" target=\"_parent\"><img src=\"https://colab.research.google.com/assets/colab-badge.svg\" alt=\"Open In Colab\"/></a>"
      ]
    },
    {
      "cell_type": "markdown",
      "source": [
        "## Set-up & Organizing"
      ],
      "metadata": {
        "id": "sFjiZoB-pBQZ"
      }
    },
    {
      "cell_type": "code",
      "execution_count": 1,
      "metadata": {
        "id": "-wsE9kljn284",
        "colab": {
          "base_uri": "https://localhost:8080/"
        },
        "outputId": "f76dc1e3-aae5-4032-a91e-c291e8e80c45"
      },
      "outputs": [
        {
          "output_type": "stream",
          "name": "stdout",
          "text": [
            "Cloning into 'hierarchical_models_sports_analytics'...\n",
            "remote: Enumerating objects: 27, done.\u001b[K\n",
            "remote: Counting objects: 100% (27/27), done.\u001b[K\n",
            "remote: Compressing objects: 100% (22/22), done.\u001b[K\n",
            "remote: Total 27 (delta 7), reused 21 (delta 4), pack-reused 0 (from 0)\u001b[K\n",
            "Receiving objects: 100% (27/27), 6.57 MiB | 11.18 MiB/s, done.\n",
            "Resolving deltas: 100% (7/7), done.\n"
          ]
        }
      ],
      "source": [
        "!git clone https://github.com/fonnesbeck/hierarchical_models_sports_analytics.git"
      ]
    },
    {
      "cell_type": "code",
      "source": [
        "import arviz as az\n",
        "import matplotlib.pyplot as plt\n",
        "import seaborn as sns\n",
        "import seaborn.objects as so\n",
        "import numpy as np\n",
        "import pandas as pd\n",
        "import polars as pl\n",
        "import pymc as pm\n",
        "import pytensor.tensor as pt\n",
        "\n",
        "import warnings\n",
        "warnings.filterwarnings(\"ignore\", category=UserWarning)\n",
        "\n",
        "RANDOM_SEED = 42\n",
        "\n",
        "print(f\"Running on PyMC v{pm.__version__}\")"
      ],
      "metadata": {
        "colab": {
          "base_uri": "https://localhost:8080/"
        },
        "id": "PbLSeBlWpEMe",
        "outputId": "a2661b95-77f6-4862-fe18-52bc1ed7aabd"
      },
      "execution_count": 2,
      "outputs": [
        {
          "output_type": "stream",
          "name": "stdout",
          "text": [
            "Running on PyMC v5.19.1\n"
          ]
        }
      ]
    },
    {
      "cell_type": "code",
      "source": [
        "baseball_data = pl.read_csv('/content/hierarchical_models_sports_analytics/data/batter_data.csv')\n",
        "baseball_data_pd = pd.read_csv('/content/hierarchical_models_sports_analytics/data/batter_data.csv')"
      ],
      "metadata": {
        "id": "eM1A1Z8MpLKi"
      },
      "execution_count": 20,
      "outputs": []
    },
    {
      "cell_type": "code",
      "source": [
        "# -- filters out 2023, adds a \"label\" column (uniqueId), drops nulls\n",
        "\n",
        "fitting_subset = baseball_data.filter(pl.col(\"season\") < 2023) # filtering out 2023 & higher\n",
        "\n",
        "fitting_subset = fitting_subset.with_columns(\n",
        "    pl.concat_str([\n",
        "        pl.col(\"name\"),\n",
        "        pl.col(\"season\"),\n",
        "        pl.col(\"team\")\n",
        "    ], separator=\" - \").alias(\"label\")\n",
        ").drop_nulls()"
      ],
      "metadata": {
        "id": "FcuRy5qUpRYM"
      },
      "execution_count": 4,
      "outputs": []
    },
    {
      "cell_type": "code",
      "source": [
        "fitting_subset = fitting_subset.with_columns(\n",
        "    (pl.col(\"hr\") / pl.col(\"num_pa\")).alias(\"hr_rate\")\n",
        ")"
      ],
      "metadata": {
        "id": "faMY0bqgpfYa"
      },
      "execution_count": 5,
      "outputs": []
    },
    {
      "cell_type": "code",
      "source": [
        "hr_rate_data = fitting_subset[\"hr_rate\"].to_numpy()\n",
        "sns.kdeplot(hr_rate_data,fill=True)"
      ],
      "metadata": {
        "colab": {
          "base_uri": "https://localhost:8080/",
          "height": 448
        },
        "id": "-m-3C_HaqlgX",
        "outputId": "75ac005f-9cca-4d3f-deda-6baa4bd7c734"
      },
      "execution_count": 6,
      "outputs": [
        {
          "output_type": "execute_result",
          "data": {
            "text/plain": [
              "<Axes: ylabel='Density'>"
            ]
          },
          "metadata": {},
          "execution_count": 6
        },
        {
          "output_type": "display_data",
          "data": {
            "text/plain": [
              "<Figure size 640x480 with 1 Axes>"
            ],
            "image/png": "[encoded data removed]"
          },
          "metadata": {}
        }
      ]
    },
    {
      "cell_type": "markdown",
      "source": [
        "## Modeling"
      ],
      "metadata": {
        "id": "i7Y2nPlarO3v"
      }
    },
    {
      "cell_type": "code",
      "source": [
        "fitting_subset_pandas = fitting_subset.to_pandas()\n",
        "\n",
        "pa = fitting_subset_pandas['num_pa'].to_numpy()\n",
        "hr = fitting_subset_pandas['hr'].to_numpy()\n",
        "\n",
        "coords = {'batter': fitting_subset_pandas['label'].to_numpy()} # - batters & indiv seasons"
      ],
      "metadata": {
        "id": "gWGKZcUWrnxP"
      },
      "execution_count": 7,
      "outputs": []
    },
    {
      "cell_type": "code",
      "source": [
        "with pm.Model(coords=coords) as uninformative_prior_model:\n",
        "\n",
        "    p = pm.Uniform('p', 0, 1, dims='batter') # absolutely uninformed prior -- could be anything b/w 0 and 1\n",
        "\n",
        "    y = pm.Binomial('y', n=pa, p=p, observed=hr, dims='batter') # n: num_samples/PAs\n",
        "                                                                # p: probability of success for each trial\n",
        "                                                                # observed: how many successes were observed\n",
        "                                                                # dimensions: len(fitting_subset_pandas['label'].to_numpy())\n",
        "pm.model_to_graphviz(uninformative_prior_model)"
      ],
      "metadata": {
        "colab": {
          "base_uri": "https://localhost:8080/",
          "height": 353
        },
        "id": "uAZrlr51swy4",
        "outputId": "789d6662-5c4b-4983-c9e3-dcdb5abe3367"
      },
      "execution_count": 8,
      "outputs": [
        {
          "output_type": "execute_result",
          "data": {
            "image/svg+xml": "<?xml version=\"1.0\" encoding=\"UTF-8\" standalone=\"no\"?>\n<!DOCTYPE svg PUBLIC \"-//W3C//DTD SVG 1.1//EN\"\n \"http://www.w3.org/Graphics/SVG/1.1/DTD/svg11.dtd\">\n<!-- Generated by graphviz version 2.43.0 (0)\n -->\n<!-- Title: %3 Pages: 1 -->\n<svg width=\"136pt\" height=\"249pt\"\n viewBox=\"0.00 0.00 136.00 248.91\" xmlns=\"http://www.w3.org/2000/svg\" xmlns:xlink=\"http://www.w3.org/1999/xlink\">\n<g id=\"graph0\" class=\"graph\" transform=\"scale(1 1) rotate(0) translate(4 244.91)\">\n<title>%3</title>\n<polygon fill=\"white\" stroke=\"transparent\" points=\"-4,4 -4,-244.91 132,-244.91 132,4 -4,4\"/>\n<g id=\"clust1\" class=\"cluster\">\n<title>clusterbatter (1494)</title>\n<path fill=\"none\" stroke=\"black\" d=\"M20,-8C20,-8 108,-8 108,-8 114,-8 120,-14 120,-20 120,-20 120,-220.91 120,-220.91 120,-226.91 114,-232.91 108,-232.91 108,-232.91 20,-232.91 20,-232.91 14,-232.91 8,-226.91 8,-220.91 8,-220.91 8,-20 8,-20 8,-14 14,-8 20,-8\"/>\n<text text-anchor=\"middle\" x=\"76.5\" y=\"-15.8\" font-family=\"Times,serif\" font-size=\"14.00\">batter (1494)</text>\n</g>\n<!-- y -->\n<g id=\"node1\" class=\"node\">\n<title>y</title>\n<ellipse fill=\"lightgrey\" stroke=\"black\" cx=\"64\" cy=\"-76.48\" rx=\"48.17\" ry=\"37.45\"/>\n<text text-anchor=\"middle\" x=\"64\" y=\"-87.78\" font-family=\"Times,serif\" font-size=\"14.00\">y</text>\n<text text-anchor=\"middle\" x=\"64\" y=\"-72.78\" font-family=\"Times,serif\" font-size=\"14.00\">~</text>\n<text text-anchor=\"middle\" x=\"64\" y=\"-57.78\" font-family=\"Times,serif\" font-size=\"14.00\">Binomial</text>\n</g>\n<!-- p -->\n<g id=\"node2\" class=\"node\">\n<title>p</title>\n<ellipse fill=\"none\" stroke=\"black\" cx=\"64\" cy=\"-187.43\" rx=\"45.01\" ry=\"37.45\"/>\n<text text-anchor=\"middle\" x=\"64\" y=\"-198.73\" font-family=\"Times,serif\" font-size=\"14.00\">p</text>\n<text text-anchor=\"middle\" x=\"64\" y=\"-183.73\" font-family=\"Times,serif\" font-size=\"14.00\">~</text>\n<text text-anchor=\"middle\" x=\"64\" y=\"-168.73\" font-family=\"Times,serif\" font-size=\"14.00\">Uniform</text>\n</g>\n<!-- p&#45;&gt;y -->\n<g id=\"edge1\" class=\"edge\">\n<title>p&#45;&gt;y</title>\n<path fill=\"none\" stroke=\"black\" d=\"M64,-149.85C64,-141.67 64,-132.89 64,-124.37\"/>\n<polygon fill=\"black\" stroke=\"black\" points=\"67.5,-124.15 64,-114.15 60.5,-124.15 67.5,-124.15\"/>\n</g>\n</g>\n</svg>\n",
            "text/plain": [
              "<graphviz.graphs.Digraph at 0x7bf25e549900>"
            ]
          },
          "metadata": {},
          "execution_count": 8
        }
      ]
    },
    {
      "cell_type": "markdown",
      "source": [
        "### Prior Predictive Sampling"
      ],
      "metadata": {
        "id": "8-EQBoazvnY2"
      }
    },
    {
      "cell_type": "markdown",
      "source": [
        "* In experimenting with 1 sample: run below & the one following: will note that when:\n",
        "\n",
        "* `p = pm.Uniform('p', 0, 1, dims='batter')` then we actually take 1 sample for each batter (so 1554 dimensions) whereas `p = pm.Uniform('p', 0, 1)` is just one sample applied to all batters"
      ],
      "metadata": {
        "id": "8rI3tl-nvpxe"
      }
    },
    {
      "cell_type": "code",
      "source": [
        "with pm.Model(coords=coords) as uninformative_prior_model:\n",
        "  p = pm.Uniform('p', 0, 0.3, dims='batter') # absolutely uninformed prior -- could be anything b/w 0 and 1\n",
        "  # p = pm.Uniform('p', 0, 1) # absolutely uninformed prior -- could be anything b/w 0 and 1\n",
        "  y = pm.Binomial('y', n=pa, p=p, observed=hr, dims='batter') # n: num_samples/PAs\n",
        "  uninformed_prior_trace = pm.sample_prior_predictive(1)"
      ],
      "metadata": {
        "id": "2Go0UtRquU3u"
      },
      "execution_count": 9,
      "outputs": []
    },
    {
      "cell_type": "code",
      "source": [
        "az.plot_dist(uninformed_prior_trace.prior['p'], kind=\"hist\")"
      ],
      "metadata": {
        "colab": {
          "base_uri": "https://localhost:8080/",
          "height": 447
        },
        "id": "1T7kEuNeuc-o",
        "outputId": "97a8a0b2-2e8a-4c57-c192-f0f648f8c3e6"
      },
      "execution_count": 10,
      "outputs": [
        {
          "output_type": "execute_result",
          "data": {
            "text/plain": [
              "<Axes: >"
            ]
          },
          "metadata": {},
          "execution_count": 10
        },
        {
          "output_type": "display_data",
          "data": {
            "text/plain": [
              "<Figure size 640x480 with 1 Axes>"
            ],
            "image/png": "[encoded data removed]"
          },
          "metadata": {}
        }
      ]
    },
    {
      "cell_type": "markdown",
      "source": [
        "### Conditioning on Data"
      ],
      "metadata": {
        "id": "pOLDFUXDwO_2"
      }
    },
    {
      "cell_type": "markdown",
      "source": [
        "\n",
        "\n",
        "*   TBD: autocorrelation\n",
        "\n"
      ],
      "metadata": {
        "id": "9thJGNO31-Ne"
      }
    },
    {
      "cell_type": "code",
      "source": [
        "with uninformative_prior_model:\n",
        "  trace = pm.sample(draws=1000, tune=1000, cores=4, chains=4, random_seed=RANDOM_SEED)\n",
        "\n",
        "posterior = az.summary(trace)"
      ],
      "metadata": {
        "colab": {
          "base_uri": "https://localhost:8080/",
          "height": 33,
          "referenced_widgets": [
            "e3f21d3c27b74abca36123391a9b8b1e",
            "7b7d91abd1754c5fb3e1b8027ae70c74"
          ]
        },
        "id": "9GqR5CCKwQVj",
        "outputId": "23cf27a1-b3fd-4592-88cf-4c10006729a2"
      },
      "execution_count": 11,
      "outputs": [
        {
          "output_type": "display_data",
          "data": {
            "text/plain": [
              "Output()"
            ],
            "application/vnd.jupyter.widget-view+json": {
              "version_major": 2,
              "version_minor": 0,
              "model_id": "e3f21d3c27b74abca36123391a9b8b1e"
            }
          },
          "metadata": {}
        },
        {
          "output_type": "display_data",
          "data": {
            "text/plain": [],
            "text/html": [
              "<pre style=\"white-space:pre;overflow-x:auto;line-height:normal;font-family:Menlo,'DejaVu Sans Mono',consolas,'Courier New',monospace\"></pre>\n"
            ]
          },
          "metadata": {}
        }
      ]
    },
    {
      "cell_type": "code",
      "source": [
        "posterior['pa'] = pa\n",
        "posterior.head(3)"
      ],
      "metadata": {
        "colab": {
          "base_uri": "https://localhost:8080/",
          "height": 143
        },
        "id": "OgsJ4PJGw2sc",
        "outputId": "18801d3d-bfd7-4798-f504-03118e2bf08e"
      },
      "execution_count": 12,
      "outputs": [
        {
          "output_type": "execute_result",
          "data": {
            "text/plain": [
              "                                mean     sd  hdi_3%  hdi_97%  mcse_mean  \\\n",
              "p[Albert Pujols - 2022 - STL]  0.071  0.013   0.046    0.096        0.0   \n",
              "p[Albert Pujols - 2021 - LAA]  0.064  0.025   0.024    0.112        0.0   \n",
              "p[Albert Pujols - 2021 - LAD]  0.063  0.017   0.033    0.096        0.0   \n",
              "\n",
              "                               mcse_sd  ess_bulk  ess_tail  r_hat   pa  \n",
              "p[Albert Pujols - 2022 - STL]      0.0    7010.0    2618.0    1.0  351  \n",
              "p[Albert Pujols - 2021 - LAA]      0.0    7060.0    2852.0    1.0   92  \n",
              "p[Albert Pujols - 2021 - LAD]      0.0    7326.0    2484.0    1.0  204  "
            ],
            "text/html": [
              "\n",
              "  <div id=\"df-c5141216-665c-4fc8-b0f5-5022bf5bc93b\" class=\"colab-df-container\">\n",
              "    <div>\n",
              "<style scoped>\n",
              "    .dataframe tbody tr th:only-of-type {\n",
              "        vertical-align: middle;\n",
              "    }\n",
              "\n",
              "    .dataframe tbody tr th {\n",
              "        vertical-align: top;\n",
              "    }\n",
              "\n",
              "    .dataframe thead th {\n",
              "        text-align: right;\n",
              "    }\n",
              "</style>\n",
              "<table border=\"1\" class=\"dataframe\">\n",
              "  <thead>\n",
              "    <tr style=\"text-align: right;\">\n",
              "      <th></th>\n",
              "      <th>mean</th>\n",
              "      <th>sd</th>\n",
              "      <th>hdi_3%</th>\n",
              "      <th>hdi_97%</th>\n",
              "      <th>mcse_mean</th>\n",
              "      <th>mcse_sd</th>\n",
              "      <th>ess_bulk</th>\n",
              "      <th>ess_tail</th>\n",
              "      <th>r_hat</th>\n",
              "      <th>pa</th>\n",
              "    </tr>\n",
              "  </thead>\n",
              "  <tbody>\n",
              "    <tr>\n",
              "      <th>p[Albert Pujols - 2022 - STL]</th>\n",
              "      <td>0.071</td>\n",
              "      <td>0.013</td>\n",
              "      <td>0.046</td>\n",
              "      <td>0.096</td>\n",
              "      <td>0.0</td>\n",
              "      <td>0.0</td>\n",
              "      <td>7010.0</td>\n",
              "      <td>2618.0</td>\n",
              "      <td>1.0</td>\n",
              "      <td>351</td>\n",
              "    </tr>\n",
              "    <tr>\n",
              "      <th>p[Albert Pujols - 2021 - LAA]</th>\n",
              "      <td>0.064</td>\n",
              "      <td>0.025</td>\n",
              "      <td>0.024</td>\n",
              "      <td>0.112</td>\n",
              "      <td>0.0</td>\n",
              "      <td>0.0</td>\n",
              "      <td>7060.0</td>\n",
              "      <td>2852.0</td>\n",
              "      <td>1.0</td>\n",
              "      <td>92</td>\n",
              "    </tr>\n",
              "    <tr>\n",
              "      <th>p[Albert Pujols - 2021 - LAD]</th>\n",
              "      <td>0.063</td>\n",
              "      <td>0.017</td>\n",
              "      <td>0.033</td>\n",
              "      <td>0.096</td>\n",
              "      <td>0.0</td>\n",
              "      <td>0.0</td>\n",
              "      <td>7326.0</td>\n",
              "      <td>2484.0</td>\n",
              "      <td>1.0</td>\n",
              "      <td>204</td>\n",
              "    </tr>\n",
              "  </tbody>\n",
              "</table>\n",
              "</div>\n",
              "    <div class=\"colab-df-buttons\">\n",
              "\n",
              "  <div class=\"colab-df-container\">\n",
              "    <button class=\"colab-df-convert\" onclick=\"convertToInteractive('df-c5141216-665c-4fc8-b0f5-5022bf5bc93b')\"\n",
              "            title=\"Convert this dataframe to an interactive table.\"\n",
              "            style=\"display:none;\">\n",
              "\n",
              "  <svg xmlns=\"http://www.w3.org/2000/svg\" height=\"24px\" viewBox=\"0 -960 960 960\">\n",
              "    <path d=\"M120-120v-720h720v720H120Zm60-500h600v-160H180v160Zm220 220h160v-160H400v160Zm0 220h160v-160H400v160ZM180-400h160v-160H180v160Zm440 0h160v-160H620v160ZM180-180h160v-160H180v160Zm440 0h160v-160H620v160Z\"/>\n",
              "  </svg>\n",
              "    </button>\n",
              "\n",
              "  <style>\n",
              "    .colab-df-container {\n",
              "      display:flex;\n",
              "      gap: 12px;\n",
              "    }\n",
              "\n",
              "    .colab-df-convert {\n",
              "      background-color: #E8F0FE;\n",
              "      border: none;\n",
              "      border-radius: 50%;\n",
              "      cursor: pointer;\n",
              "      display: none;\n",
              "      fill: #1967D2;\n",
              "      height: 32px;\n",
              "      padding: 0 0 0 0;\n",
              "      width: 32px;\n",
              "    }\n",
              "\n",
              "    .colab-df-convert:hover {\n",
              "      background-color: #E2EBFA;\n",
              "      box-shadow: 0px 1px 2px rgba(60, 64, 67, 0.3), 0px 1px 3px 1px rgba(60, 64, 67, 0.15);\n",
              "      fill: #174EA6;\n",
              "    }\n",
              "\n",
              "    .colab-df-buttons div {\n",
              "      margin-bottom: 4px;\n",
              "    }\n",
              "\n",
              "    [theme=dark] .colab-df-convert {\n",
              "      background-color: #3B4455;\n",
              "      fill: #D2E3FC;\n",
              "    }\n",
              "\n",
              "    [theme=dark] .colab-df-convert:hover {\n",
              "      background-color: #434B5C;\n",
              "      box-shadow: 0px 1px 3px 1px rgba(0, 0, 0, 0.15);\n",
              "      filter: drop-shadow(0px 1px 2px rgba(0, 0, 0, 0.3));\n",
              "      fill: #FFFFFF;\n",
              "    }\n",
              "  </style>\n",
              "\n",
              "    <script>\n",
              "      const buttonEl =\n",
              "        document.querySelector('#df-c5141216-665c-4fc8-b0f5-5022bf5bc93b button.colab-df-convert');\n",
              "      buttonEl.style.display =\n",
              "        google.colab.kernel.accessAllowed ? 'block' : 'none';\n",
              "\n",
              "      async function convertToInteractive(key) {\n",
              "        const element = document.querySelector('#df-c5141216-665c-4fc8-b0f5-5022bf5bc93b');\n",
              "        const dataTable =\n",
              "          await google.colab.kernel.invokeFunction('convertToInteractive',\n",
              "                                                    [key], {});\n",
              "        if (!dataTable) return;\n",
              "\n",
              "        const docLinkHtml = 'Like what you see? Visit the ' +\n",
              "          '<a target=\"_blank\" href=https://colab.research.google.com/notebooks/data_table.ipynb>data table notebook</a>'\n",
              "          + ' to learn more about interactive tables.';\n",
              "        element.innerHTML = '';\n",
              "        dataTable['output_type'] = 'display_data';\n",
              "        await google.colab.output.renderOutput(dataTable, element);\n",
              "        const docLink = document.createElement('div');\n",
              "        docLink.innerHTML = docLinkHtml;\n",
              "        element.appendChild(docLink);\n",
              "      }\n",
              "    </script>\n",
              "  </div>\n",
              "\n",
              "\n",
              "<div id=\"df-b227bdf8-152b-4233-b422-005ae31116a2\">\n",
              "  <button class=\"colab-df-quickchart\" onclick=\"quickchart('df-b227bdf8-152b-4233-b422-005ae31116a2')\"\n",
              "            title=\"Suggest charts\"\n",
              "            style=\"display:none;\">\n",
              "\n",
              "<svg xmlns=\"http://www.w3.org/2000/svg\" height=\"24px\"viewBox=\"0 0 24 24\"\n",
              "     width=\"24px\">\n",
              "    <g>\n",
              "        <path d=\"M19 3H5c-1.1 0-2 .9-2 2v14c0 1.1.9 2 2 2h14c1.1 0 2-.9 2-2V5c0-1.1-.9-2-2-2zM9 17H7v-7h2v7zm4 0h-2V7h2v10zm4 0h-2v-4h2v4z\"/>\n",
              "    </g>\n",
              "</svg>\n",
              "  </button>\n",
              "\n",
              "<style>\n",
              "  .colab-df-quickchart {\n",
              "      --bg-color: #E8F0FE;\n",
              "      --fill-color: #1967D2;\n",
              "      --hover-bg-color: #E2EBFA;\n",
              "      --hover-fill-color: #174EA6;\n",
              "      --disabled-fill-color: #AAA;\n",
              "      --disabled-bg-color: #DDD;\n",
              "  }\n",
              "\n",
              "  [theme=dark] .colab-df-quickchart {\n",
              "      --bg-color: #3B4455;\n",
              "      --fill-color: #D2E3FC;\n",
              "      --hover-bg-color: #434B5C;\n",
              "      --hover-fill-color: #FFFFFF;\n",
              "      --disabled-bg-color: #3B4455;\n",
              "      --disabled-fill-color: #666;\n",
              "  }\n",
              "\n",
              "  .colab-df-quickchart {\n",
              "    background-color: var(--bg-color);\n",
              "    border: none;\n",
              "    border-radius: 50%;\n",
              "    cursor: pointer;\n",
              "    display: none;\n",
              "    fill: var(--fill-color);\n",
              "    height: 32px;\n",
              "    padding: 0;\n",
              "    width: 32px;\n",
              "  }\n",
              "\n",
              "  .colab-df-quickchart:hover {\n",
              "    background-color: var(--hover-bg-color);\n",
              "    box-shadow: 0 1px 2px rgba(60, 64, 67, 0.3), 0 1px 3px 1px rgba(60, 64, 67, 0.15);\n",
              "    fill: var(--button-hover-fill-color);\n",
              "  }\n",
              "\n",
              "  .colab-df-quickchart-complete:disabled,\n",
              "  .colab-df-quickchart-complete:disabled:hover {\n",
              "    background-color: var(--disabled-bg-color);\n",
              "    fill: var(--disabled-fill-color);\n",
              "    box-shadow: none;\n",
              "  }\n",
              "\n",
              "  .colab-df-spinner {\n",
              "    border: 2px solid var(--fill-color);\n",
              "    border-color: transparent;\n",
              "    border-bottom-color: var(--fill-color);\n",
              "    animation:\n",
              "      spin 1s steps(1) infinite;\n",
              "  }\n",
              "\n",
              "  @keyframes spin {\n",
              "    0% {\n",
              "      border-color: transparent;\n",
              "      border-bottom-color: var(--fill-color);\n",
              "      border-left-color: var(--fill-color);\n",
              "    }\n",
              "    20% {\n",
              "      border-color: transparent;\n",
              "      border-left-color: var(--fill-color);\n",
              "      border-top-color: var(--fill-color);\n",
              "    }\n",
              "    30% {\n",
              "      border-color: transparent;\n",
              "      border-left-color: var(--fill-color);\n",
              "      border-top-color: var(--fill-color);\n",
              "      border-right-color: var(--fill-color);\n",
              "    }\n",
              "    40% {\n",
              "      border-color: transparent;\n",
              "      border-right-color: var(--fill-color);\n",
              "      border-top-color: var(--fill-color);\n",
              "    }\n",
              "    60% {\n",
              "      border-color: transparent;\n",
              "      border-right-color: var(--fill-color);\n",
              "    }\n",
              "    80% {\n",
              "      border-color: transparent;\n",
              "      border-right-color: var(--fill-color);\n",
              "      border-bottom-color: var(--fill-color);\n",
              "    }\n",
              "    90% {\n",
              "      border-color: transparent;\n",
              "      border-bottom-color: var(--fill-color);\n",
              "    }\n",
              "  }\n",
              "</style>\n",
              "\n",
              "  <script>\n",
              "    async function quickchart(key) {\n",
              "      const quickchartButtonEl =\n",
              "        document.querySelector('#' + key + ' button');\n",
              "      quickchartButtonEl.disabled = true;  // To prevent multiple clicks.\n",
              "      quickchartButtonEl.classList.add('colab-df-spinner');\n",
              "      try {\n",
              "        const charts = await google.colab.kernel.invokeFunction(\n",
              "            'suggestCharts', [key], {});\n",
              "      } catch (error) {\n",
              "        console.error('Error during call to suggestCharts:', error);\n",
              "      }\n",
              "      quickchartButtonEl.classList.remove('colab-df-spinner');\n",
              "      quickchartButtonEl.classList.add('colab-df-quickchart-complete');\n",
              "    }\n",
              "    (() => {\n",
              "      let quickchartButtonEl =\n",
              "        document.querySelector('#df-b227bdf8-152b-4233-b422-005ae31116a2 button');\n",
              "      quickchartButtonEl.style.display =\n",
              "        google.colab.kernel.accessAllowed ? 'block' : 'none';\n",
              "    })();\n",
              "  </script>\n",
              "</div>\n",
              "\n",
              "    </div>\n",
              "  </div>\n"
            ],
            "application/vnd.google.colaboratory.intrinsic+json": {
              "type": "dataframe",
              "variable_name": "posterior",
              "summary": "{\n  \"name\": \"posterior\",\n  \"rows\": 1494,\n  \"fields\": [\n    {\n      \"column\": \"mean\",\n      \"properties\": {\n        \"dtype\": \"number\",\n        \"std\": 0.0265959734264422,\n        \"min\": 0.002,\n        \"max\": 0.193,\n        \"num_unique_values\": 127,\n        \"samples\": [\n          0.134,\n          0.079,\n          0.017\n        ],\n        \"semantic_type\": \"\",\n        \"description\": \"\"\n      }\n    },\n    {\n      \"column\": \"sd\",\n      \"properties\": {\n        \"dtype\": \"number\",\n        \"std\": 0.02030211640037608,\n        \"min\": 0.002,\n        \"max\": 0.088,\n        \"num_unique_values\": 87,\n        \"samples\": [\n          0.066,\n          0.013,\n          0.027\n        ],\n        \"semantic_type\": \"\",\n        \"description\": \"\"\n      }\n    },\n    {\n      \"column\": \"hdi_3%\",\n      \"properties\": {\n        \"dtype\": \"number\",\n        \"std\": 0.01238568570901404,\n        \"min\": 0.0,\n        \"max\": 0.071,\n        \"num_unique_values\": 59,\n        \"samples\": [\n          0.046,\n          0.0,\n          0.037\n        ],\n        \"semantic_type\": \"\",\n        \"description\": \"\"\n      }\n    },\n    {\n      \"column\": \"hdi_97%\",\n      \"properties\": {\n        \"dtype\": \"number\",\n        \"std\": 0.06102643754987642,\n        \"min\": 0.005,\n        \"max\": 0.3,\n        \"num_unique_values\": 242,\n        \"samples\": [\n          0.071,\n          0.092,\n          0.083\n        ],\n        \"semantic_type\": \"\",\n        \"description\": \"\"\n      }\n    },\n    {\n      \"column\": \"mcse_mean\",\n      \"properties\": {\n        \"dtype\": \"number\",\n        \"std\": 0.00037099635575524114,\n        \"min\": 0.0,\n        \"max\": 0.001,\n        \"num_unique_values\": 2,\n        \"samples\": [\n          0.001,\n          0.0\n        ],\n        \"semantic_type\": \"\",\n        \"description\": \"\"\n      }\n    },\n    {\n      \"column\": \"mcse_sd\",\n      \"properties\": {\n        \"dtype\": \"number\",\n        \"std\": 0.000361661652734086,\n        \"min\": 0.0,\n        \"max\": 0.001,\n        \"num_unique_values\": 2,\n        \"samples\": [\n          0.001,\n          0.0\n        ],\n        \"semantic_type\": \"\",\n        \"description\": \"\"\n      }\n    },\n    {\n      \"column\": \"ess_bulk\",\n      \"properties\": {\n        \"dtype\": \"number\",\n        \"std\": 886.3611452416326,\n        \"min\": 3469.0,\n        \"max\": 10160.0,\n        \"num_unique_values\": 1181,\n        \"samples\": [\n          7309.0,\n          6411.0\n        ],\n        \"semantic_type\": \"\",\n        \"description\": \"\"\n      }\n    },\n    {\n      \"column\": \"ess_tail\",\n      \"properties\": {\n        \"dtype\": \"number\",\n        \"std\": 314.1992713783023,\n        \"min\": 1422.0,\n        \"max\": 3305.0,\n        \"num_unique_values\": 834,\n        \"samples\": [\n          2210.0,\n          2133.0\n        ],\n        \"semantic_type\": \"\",\n        \"description\": \"\"\n      }\n    },\n    {\n      \"column\": \"r_hat\",\n      \"properties\": {\n        \"dtype\": \"number\",\n        \"std\": 0.0010296556472161975,\n        \"min\": 1.0,\n        \"max\": 1.01,\n        \"num_unique_values\": 2,\n        \"samples\": [\n          1.01,\n          1.0\n        ],\n        \"semantic_type\": \"\",\n        \"description\": \"\"\n      }\n    },\n    {\n      \"column\": \"pa\",\n      \"properties\": {\n        \"dtype\": \"number\",\n        \"std\": 205,\n        \"min\": 1,\n        \"max\": 724,\n        \"num_unique_values\": 565,\n        \"samples\": [\n          619,\n          266\n        ],\n        \"semantic_type\": \"\",\n        \"description\": \"\"\n      }\n    }\n  ]\n}"
            }
          },
          "metadata": {},
          "execution_count": 12
        }
      ]
    },
    {
      "cell_type": "markdown",
      "source": [
        "\n",
        "*   mean, sd, hdi_3%, hdi_97% — self-explanatory\n",
        "*   mcse_mean, mcse_sd — in practice, make close to 0. represents the uncertainity in some of those metrics ... monte carlo standard error\n",
        "\n"
      ],
      "metadata": {
        "id": "0O5BxaNg11kq"
      }
    },
    {
      "cell_type": "code",
      "source": [
        "# model is expressing uncertainity in its own estimates (based on convergence here).. uncertainity in mean and standard deviation\n",
        "# -- clearly correlated to low PA's which logically tracks, low PAs = higher uncertainity\n",
        "posterior.sort_values(by='mcse_mean',ascending=False).head(5)"
      ],
      "metadata": {
        "colab": {
          "base_uri": "https://localhost:8080/",
          "height": 206
        },
        "id": "Kx3erard2SGG",
        "outputId": "022b5357-deef-4736-c2fa-26ef8e9482da"
      },
      "execution_count": 13,
      "outputs": [
        {
          "output_type": "execute_result",
          "data": {
            "text/plain": [
              "                                mean     sd  hdi_3%  hdi_97%  mcse_mean  \\\n",
              "p[Dillon Thomas - 2021 - SEA]  0.082  0.067     0.0    0.209      0.001   \n",
              "p[Mike Ford - 2022 - ATL]      0.089  0.072     0.0    0.226      0.001   \n",
              "p[Dillon Thomas - 2022 - LAA]  0.061  0.056     0.0    0.167      0.001   \n",
              "p[Mike Ford - 2022 - SF]       0.113  0.081     0.0    0.258      0.001   \n",
              "p[Michael Perez - 2022 - NYM]  0.055  0.051     0.0    0.152      0.001   \n",
              "\n",
              "                               mcse_sd  ess_bulk  ess_tail  r_hat  pa  \n",
              "p[Dillon Thomas - 2021 - SEA]    0.001    5846.0    2463.0    1.0   9  \n",
              "p[Mike Ford - 2022 - ATL]        0.001    5532.0    2229.0    1.0   8  \n",
              "p[Dillon Thomas - 2022 - LAA]    0.001    6052.0    2232.0    1.0  14  \n",
              "p[Mike Ford - 2022 - SF]         0.001    6363.0    2053.0    1.0   4  \n",
              "p[Michael Perez - 2022 - NYM]    0.001    5653.0    2074.0    1.0  16  "
            ],
            "text/html": [
              "\n",
              "  <div id=\"df-bbc411dc-e8d8-4d2b-bb39-efd9a2914179\" class=\"colab-df-container\">\n",
              "    <div>\n",
              "<style scoped>\n",
              "    .dataframe tbody tr th:only-of-type {\n",
              "        vertical-align: middle;\n",
              "    }\n",
              "\n",
              "    .dataframe tbody tr th {\n",
              "        vertical-align: top;\n",
              "    }\n",
              "\n",
              "    .dataframe thead th {\n",
              "        text-align: right;\n",
              "    }\n",
              "</style>\n",
              "<table border=\"1\" class=\"dataframe\">\n",
              "  <thead>\n",
              "    <tr style=\"text-align: right;\">\n",
              "      <th></th>\n",
              "      <th>mean</th>\n",
              "      <th>sd</th>\n",
              "      <th>hdi_3%</th>\n",
              "      <th>hdi_97%</th>\n",
              "      <th>mcse_mean</th>\n",
              "      <th>mcse_sd</th>\n",
              "      <th>ess_bulk</th>\n",
              "      <th>ess_tail</th>\n",
              "      <th>r_hat</th>\n",
              "      <th>pa</th>\n",
              "    </tr>\n",
              "  </thead>\n",
              "  <tbody>\n",
              "    <tr>\n",
              "      <th>p[Dillon Thomas - 2021 - SEA]</th>\n",
              "      <td>0.082</td>\n",
              "      <td>0.067</td>\n",
              "      <td>0.0</td>\n",
              "      <td>0.209</td>\n",
              "      <td>0.001</td>\n",
              "      <td>0.001</td>\n",
              "      <td>5846.0</td>\n",
              "      <td>2463.0</td>\n",
              "      <td>1.0</td>\n",
              "      <td>9</td>\n",
              "    </tr>\n",
              "    <tr>\n",
              "      <th>p[Mike Ford - 2022 - ATL]</th>\n",
              "      <td>0.089</td>\n",
              "      <td>0.072</td>\n",
              "      <td>0.0</td>\n",
              "      <td>0.226</td>\n",
              "      <td>0.001</td>\n",
              "      <td>0.001</td>\n",
              "      <td>5532.0</td>\n",
              "      <td>2229.0</td>\n",
              "      <td>1.0</td>\n",
              "      <td>8</td>\n",
              "    </tr>\n",
              "    <tr>\n",
              "      <th>p[Dillon Thomas - 2022 - LAA]</th>\n",
              "      <td>0.061</td>\n",
              "      <td>0.056</td>\n",
              "      <td>0.0</td>\n",
              "      <td>0.167</td>\n",
              "      <td>0.001</td>\n",
              "      <td>0.001</td>\n",
              "      <td>6052.0</td>\n",
              "      <td>2232.0</td>\n",
              "      <td>1.0</td>\n",
              "      <td>14</td>\n",
              "    </tr>\n",
              "    <tr>\n",
              "      <th>p[Mike Ford - 2022 - SF]</th>\n",
              "      <td>0.113</td>\n",
              "      <td>0.081</td>\n",
              "      <td>0.0</td>\n",
              "      <td>0.258</td>\n",
              "      <td>0.001</td>\n",
              "      <td>0.001</td>\n",
              "      <td>6363.0</td>\n",
              "      <td>2053.0</td>\n",
              "      <td>1.0</td>\n",
              "      <td>4</td>\n",
              "    </tr>\n",
              "    <tr>\n",
              "      <th>p[Michael Perez - 2022 - NYM]</th>\n",
              "      <td>0.055</td>\n",
              "      <td>0.051</td>\n",
              "      <td>0.0</td>\n",
              "      <td>0.152</td>\n",
              "      <td>0.001</td>\n",
              "      <td>0.001</td>\n",
              "      <td>5653.0</td>\n",
              "      <td>2074.0</td>\n",
              "      <td>1.0</td>\n",
              "      <td>16</td>\n",
              "    </tr>\n",
              "  </tbody>\n",
              "</table>\n",
              "</div>\n",
              "    <div class=\"colab-df-buttons\">\n",
              "\n",
              "  <div class=\"colab-df-container\">\n",
              "    <button class=\"colab-df-convert\" onclick=\"convertToInteractive('df-bbc411dc-e8d8-4d2b-bb39-efd9a2914179')\"\n",
              "            title=\"Convert this dataframe to an interactive table.\"\n",
              "            style=\"display:none;\">\n",
              "\n",
              "  <svg xmlns=\"http://www.w3.org/2000/svg\" height=\"24px\" viewBox=\"0 -960 960 960\">\n",
              "    <path d=\"M120-120v-720h720v720H120Zm60-500h600v-160H180v160Zm220 220h160v-160H400v160Zm0 220h160v-160H400v160ZM180-400h160v-160H180v160Zm440 0h160v-160H620v160ZM180-180h160v-160H180v160Zm440 0h160v-160H620v160Z\"/>\n",
              "  </svg>\n",
              "    </button>\n",
              "\n",
              "  <style>\n",
              "    .colab-df-container {\n",
              "      display:flex;\n",
              "      gap: 12px;\n",
              "    }\n",
              "\n",
              "    .colab-df-convert {\n",
              "      background-color: #E8F0FE;\n",
              "      border: none;\n",
              "      border-radius: 50%;\n",
              "      cursor: pointer;\n",
              "      display: none;\n",
              "      fill: #1967D2;\n",
              "      height: 32px;\n",
              "      padding: 0 0 0 0;\n",
              "      width: 32px;\n",
              "    }\n",
              "\n",
              "    .colab-df-convert:hover {\n",
              "      background-color: #E2EBFA;\n",
              "      box-shadow: 0px 1px 2px rgba(60, 64, 67, 0.3), 0px 1px 3px 1px rgba(60, 64, 67, 0.15);\n",
              "      fill: #174EA6;\n",
              "    }\n",
              "\n",
              "    .colab-df-buttons div {\n",
              "      margin-bottom: 4px;\n",
              "    }\n",
              "\n",
              "    [theme=dark] .colab-df-convert {\n",
              "      background-color: #3B4455;\n",
              "      fill: #D2E3FC;\n",
              "    }\n",
              "\n",
              "    [theme=dark] .colab-df-convert:hover {\n",
              "      background-color: #434B5C;\n",
              "      box-shadow: 0px 1px 3px 1px rgba(0, 0, 0, 0.15);\n",
              "      filter: drop-shadow(0px 1px 2px rgba(0, 0, 0, 0.3));\n",
              "      fill: #FFFFFF;\n",
              "    }\n",
              "  </style>\n",
              "\n",
              "    <script>\n",
              "      const buttonEl =\n",
              "        document.querySelector('#df-bbc411dc-e8d8-4d2b-bb39-efd9a2914179 button.colab-df-convert');\n",
              "      buttonEl.style.display =\n",
              "        google.colab.kernel.accessAllowed ? 'block' : 'none';\n",
              "\n",
              "      async function convertToInteractive(key) {\n",
              "        const element = document.querySelector('#df-bbc411dc-e8d8-4d2b-bb39-efd9a2914179');\n",
              "        const dataTable =\n",
              "          await google.colab.kernel.invokeFunction('convertToInteractive',\n",
              "                                                    [key], {});\n",
              "        if (!dataTable) return;\n",
              "\n",
              "        const docLinkHtml = 'Like what you see? Visit the ' +\n",
              "          '<a target=\"_blank\" href=https://colab.research.google.com/notebooks/data_table.ipynb>data table notebook</a>'\n",
              "          + ' to learn more about interactive tables.';\n",
              "        element.innerHTML = '';\n",
              "        dataTable['output_type'] = 'display_data';\n",
              "        await google.colab.output.renderOutput(dataTable, element);\n",
              "        const docLink = document.createElement('div');\n",
              "        docLink.innerHTML = docLinkHtml;\n",
              "        element.appendChild(docLink);\n",
              "      }\n",
              "    </script>\n",
              "  </div>\n",
              "\n",
              "\n",
              "<div id=\"df-c1b9fb5d-cbb1-4708-b39f-b4101e7a7dcc\">\n",
              "  <button class=\"colab-df-quickchart\" onclick=\"quickchart('df-c1b9fb5d-cbb1-4708-b39f-b4101e7a7dcc')\"\n",
              "            title=\"Suggest charts\"\n",
              "            style=\"display:none;\">\n",
              "\n",
              "<svg xmlns=\"http://www.w3.org/2000/svg\" height=\"24px\"viewBox=\"0 0 24 24\"\n",
              "     width=\"24px\">\n",
              "    <g>\n",
              "        <path d=\"M19 3H5c-1.1 0-2 .9-2 2v14c0 1.1.9 2 2 2h14c1.1 0 2-.9 2-2V5c0-1.1-.9-2-2-2zM9 17H7v-7h2v7zm4 0h-2V7h2v10zm4 0h-2v-4h2v4z\"/>\n",
              "    </g>\n",
              "</svg>\n",
              "  </button>\n",
              "\n",
              "<style>\n",
              "  .colab-df-quickchart {\n",
              "      --bg-color: #E8F0FE;\n",
              "      --fill-color: #1967D2;\n",
              "      --hover-bg-color: #E2EBFA;\n",
              "      --hover-fill-color: #174EA6;\n",
              "      --disabled-fill-color: #AAA;\n",
              "      --disabled-bg-color: #DDD;\n",
              "  }\n",
              "\n",
              "  [theme=dark] .colab-df-quickchart {\n",
              "      --bg-color: #3B4455;\n",
              "      --fill-color: #D2E3FC;\n",
              "      --hover-bg-color: #434B5C;\n",
              "      --hover-fill-color: #FFFFFF;\n",
              "      --disabled-bg-color: #3B4455;\n",
              "      --disabled-fill-color: #666;\n",
              "  }\n",
              "\n",
              "  .colab-df-quickchart {\n",
              "    background-color: var(--bg-color);\n",
              "    border: none;\n",
              "    border-radius: 50%;\n",
              "    cursor: pointer;\n",
              "    display: none;\n",
              "    fill: var(--fill-color);\n",
              "    height: 32px;\n",
              "    padding: 0;\n",
              "    width: 32px;\n",
              "  }\n",
              "\n",
              "  .colab-df-quickchart:hover {\n",
              "    background-color: var(--hover-bg-color);\n",
              "    box-shadow: 0 1px 2px rgba(60, 64, 67, 0.3), 0 1px 3px 1px rgba(60, 64, 67, 0.15);\n",
              "    fill: var(--button-hover-fill-color);\n",
              "  }\n",
              "\n",
              "  .colab-df-quickchart-complete:disabled,\n",
              "  .colab-df-quickchart-complete:disabled:hover {\n",
              "    background-color: var(--disabled-bg-color);\n",
              "    fill: var(--disabled-fill-color);\n",
              "    box-shadow: none;\n",
              "  }\n",
              "\n",
              "  .colab-df-spinner {\n",
              "    border: 2px solid var(--fill-color);\n",
              "    border-color: transparent;\n",
              "    border-bottom-color: var(--fill-color);\n",
              "    animation:\n",
              "      spin 1s steps(1) infinite;\n",
              "  }\n",
              "\n",
              "  @keyframes spin {\n",
              "    0% {\n",
              "      border-color: transparent;\n",
              "      border-bottom-color: var(--fill-color);\n",
              "      border-left-color: var(--fill-color);\n",
              "    }\n",
              "    20% {\n",
              "      border-color: transparent;\n",
              "      border-left-color: var(--fill-color);\n",
              "      border-top-color: var(--fill-color);\n",
              "    }\n",
              "    30% {\n",
              "      border-color: transparent;\n",
              "      border-left-color: var(--fill-color);\n",
              "      border-top-color: var(--fill-color);\n",
              "      border-right-color: var(--fill-color);\n",
              "    }\n",
              "    40% {\n",
              "      border-color: transparent;\n",
              "      border-right-color: var(--fill-color);\n",
              "      border-top-color: var(--fill-color);\n",
              "    }\n",
              "    60% {\n",
              "      border-color: transparent;\n",
              "      border-right-color: var(--fill-color);\n",
              "    }\n",
              "    80% {\n",
              "      border-color: transparent;\n",
              "      border-right-color: var(--fill-color);\n",
              "      border-bottom-color: var(--fill-color);\n",
              "    }\n",
              "    90% {\n",
              "      border-color: transparent;\n",
              "      border-bottom-color: var(--fill-color);\n",
              "    }\n",
              "  }\n",
              "</style>\n",
              "\n",
              "  <script>\n",
              "    async function quickchart(key) {\n",
              "      const quickchartButtonEl =\n",
              "        document.querySelector('#' + key + ' button');\n",
              "      quickchartButtonEl.disabled = true;  // To prevent multiple clicks.\n",
              "      quickchartButtonEl.classList.add('colab-df-spinner');\n",
              "      try {\n",
              "        const charts = await google.colab.kernel.invokeFunction(\n",
              "            'suggestCharts', [key], {});\n",
              "      } catch (error) {\n",
              "        console.error('Error during call to suggestCharts:', error);\n",
              "      }\n",
              "      quickchartButtonEl.classList.remove('colab-df-spinner');\n",
              "      quickchartButtonEl.classList.add('colab-df-quickchart-complete');\n",
              "    }\n",
              "    (() => {\n",
              "      let quickchartButtonEl =\n",
              "        document.querySelector('#df-c1b9fb5d-cbb1-4708-b39f-b4101e7a7dcc button');\n",
              "      quickchartButtonEl.style.display =\n",
              "        google.colab.kernel.accessAllowed ? 'block' : 'none';\n",
              "    })();\n",
              "  </script>\n",
              "</div>\n",
              "\n",
              "    </div>\n",
              "  </div>\n"
            ],
            "application/vnd.google.colaboratory.intrinsic+json": {
              "type": "dataframe",
              "summary": "{\n  \"name\": \"posterior\",\n  \"rows\": 5,\n  \"fields\": [\n    {\n      \"column\": \"mean\",\n      \"properties\": {\n        \"dtype\": \"number\",\n        \"std\": 0.0232379000772445,\n        \"min\": 0.055,\n        \"max\": 0.113,\n        \"num_unique_values\": 5,\n        \"samples\": [\n          0.089,\n          0.055,\n          0.061\n        ],\n        \"semantic_type\": \"\",\n        \"description\": \"\"\n      }\n    },\n    {\n      \"column\": \"sd\",\n      \"properties\": {\n        \"dtype\": \"number\",\n        \"std\": 0.012095453691366853,\n        \"min\": 0.051,\n        \"max\": 0.081,\n        \"num_unique_values\": 5,\n        \"samples\": [\n          0.072,\n          0.051,\n          0.056\n        ],\n        \"semantic_type\": \"\",\n        \"description\": \"\"\n      }\n    },\n    {\n      \"column\": \"hdi_3%\",\n      \"properties\": {\n        \"dtype\": \"number\",\n        \"std\": 0.0,\n        \"min\": 0.0,\n        \"max\": 0.0,\n        \"num_unique_values\": 1,\n        \"samples\": [\n          0.0\n        ],\n        \"semantic_type\": \"\",\n        \"description\": \"\"\n      }\n    },\n    {\n      \"column\": \"hdi_97%\",\n      \"properties\": {\n        \"dtype\": \"number\",\n        \"std\": 0.04325852517134628,\n        \"min\": 0.152,\n        \"max\": 0.258,\n        \"num_unique_values\": 5,\n        \"samples\": [\n          0.226\n        ],\n        \"semantic_type\": \"\",\n        \"description\": \"\"\n      }\n    },\n    {\n      \"column\": \"mcse_mean\",\n      \"properties\": {\n        \"dtype\": \"number\",\n        \"std\": 0.0,\n        \"min\": 0.001,\n        \"max\": 0.001,\n        \"num_unique_values\": 1,\n        \"samples\": [\n          0.001\n        ],\n        \"semantic_type\": \"\",\n        \"description\": \"\"\n      }\n    },\n    {\n      \"column\": \"mcse_sd\",\n      \"properties\": {\n        \"dtype\": \"number\",\n        \"std\": 0.0,\n        \"min\": 0.001,\n        \"max\": 0.001,\n        \"num_unique_values\": 1,\n        \"samples\": [\n          0.001\n        ],\n        \"semantic_type\": \"\",\n        \"description\": \"\"\n      }\n    },\n    {\n      \"column\": \"ess_bulk\",\n      \"properties\": {\n        \"dtype\": \"number\",\n        \"std\": 330.2418810508443,\n        \"min\": 5532.0,\n        \"max\": 6363.0,\n        \"num_unique_values\": 5,\n        \"samples\": [\n          5532.0\n        ],\n        \"semantic_type\": \"\",\n        \"description\": \"\"\n      }\n    },\n    {\n      \"column\": \"ess_tail\",\n      \"properties\": {\n        \"dtype\": \"number\",\n        \"std\": 164.31585437808488,\n        \"min\": 2053.0,\n        \"max\": 2463.0,\n        \"num_unique_values\": 5,\n        \"samples\": [\n          2229.0\n        ],\n        \"semantic_type\": \"\",\n        \"description\": \"\"\n      }\n    },\n    {\n      \"column\": \"r_hat\",\n      \"properties\": {\n        \"dtype\": \"number\",\n        \"std\": 0.0,\n        \"min\": 1.0,\n        \"max\": 1.0,\n        \"num_unique_values\": 1,\n        \"samples\": [\n          1.0\n        ],\n        \"semantic_type\": \"\",\n        \"description\": \"\"\n      }\n    },\n    {\n      \"column\": \"pa\",\n      \"properties\": {\n        \"dtype\": \"number\",\n        \"std\": 4,\n        \"min\": 4,\n        \"max\": 16,\n        \"num_unique_values\": 5,\n        \"samples\": [\n          8\n        ],\n        \"semantic_type\": \"\",\n        \"description\": \"\"\n      }\n    }\n  ]\n}"
            }
          },
          "metadata": {},
          "execution_count": 13
        }
      ]
    },
    {
      "cell_type": "code",
      "source": [
        "# model is fairly uncertain up until roughly 50 plate appearances - tracks. wonder how that changes with different priors (if at all)\n",
        "posterior[posterior['mcse_mean'] > 0]['pa'].describe()"
      ],
      "metadata": {
        "colab": {
          "base_uri": "https://localhost:8080/",
          "height": 334
        },
        "id": "G9pIhvkR3ha5",
        "outputId": "467615ed-34ce-4087-9228-5622522d450f"
      },
      "execution_count": 14,
      "outputs": [
        {
          "output_type": "execute_result",
          "data": {
            "text/plain": [
              "count    246.000000\n",
              "mean      13.654472\n",
              "std        9.335827\n",
              "min        1.000000\n",
              "25%        7.000000\n",
              "50%       12.000000\n",
              "75%       18.000000\n",
              "max       55.000000\n",
              "Name: pa, dtype: float64"
            ],
            "text/html": [
              "<div>\n",
              "<style scoped>\n",
              "    .dataframe tbody tr th:only-of-type {\n",
              "        vertical-align: middle;\n",
              "    }\n",
              "\n",
              "    .dataframe tbody tr th {\n",
              "        vertical-align: top;\n",
              "    }\n",
              "\n",
              "    .dataframe thead th {\n",
              "        text-align: right;\n",
              "    }\n",
              "</style>\n",
              "<table border=\"1\" class=\"dataframe\">\n",
              "  <thead>\n",
              "    <tr style=\"text-align: right;\">\n",
              "      <th></th>\n",
              "      <th>pa</th>\n",
              "    </tr>\n",
              "  </thead>\n",
              "  <tbody>\n",
              "    <tr>\n",
              "      <th>count</th>\n",
              "      <td>246.000000</td>\n",
              "    </tr>\n",
              "    <tr>\n",
              "      <th>mean</th>\n",
              "      <td>13.654472</td>\n",
              "    </tr>\n",
              "    <tr>\n",
              "      <th>std</th>\n",
              "      <td>9.335827</td>\n",
              "    </tr>\n",
              "    <tr>\n",
              "      <th>min</th>\n",
              "      <td>1.000000</td>\n",
              "    </tr>\n",
              "    <tr>\n",
              "      <th>25%</th>\n",
              "      <td>7.000000</td>\n",
              "    </tr>\n",
              "    <tr>\n",
              "      <th>50%</th>\n",
              "      <td>12.000000</td>\n",
              "    </tr>\n",
              "    <tr>\n",
              "      <th>75%</th>\n",
              "      <td>18.000000</td>\n",
              "    </tr>\n",
              "    <tr>\n",
              "      <th>max</th>\n",
              "      <td>55.000000</td>\n",
              "    </tr>\n",
              "  </tbody>\n",
              "</table>\n",
              "</div><br><label><b>dtype:</b> float64</label>"
            ]
          },
          "metadata": {},
          "execution_count": 14
        }
      ]
    },
    {
      "cell_type": "code",
      "source": [
        "random_batters = np.random.choice(coords['batter'], size=2, replace=False)\n",
        "names = np.array([label.split(' - ')[0] for label in random_batters])\n",
        "\n",
        "batter_1 = baseball_data_pd[(baseball_data_pd['name'] == names[0]) & (baseball_data_pd['season'] == 2023)]\n",
        "batter_2 = baseball_data_pd[(baseball_data_pd['name'] == names[1]) & (baseball_data_pd['season'] == 2023)]\n",
        "\n",
        "batter_1_hr = (batter_1['hr'] / batter_1['num_pa']).iloc[0]\n",
        "batter_2_hr = (batter_2['hr'] / batter_2['num_pa']).iloc[0]\n",
        "\n",
        "hr_rates = {random_batters[0]: batter_1_hr, random_batters[1]: batter_2_hr}\n",
        "\n",
        "for batter in random_batters:\n",
        "\n",
        "  num_pa = fitting_subset_pandas[fitting_subset_pandas['label'] == batter]['num_pa'].values[0]\n",
        "  actual_hr_rate = hr_rates[batter]\n",
        "\n",
        "  az.plot_posterior(\n",
        "      trace,\n",
        "      var_names=[\"p\"],\n",
        "      coords={\"batter\": [batter]},\n",
        "      hdi_prob=0.94,\n",
        "      figsize=(8, 4))\n",
        "\n",
        "  plt.axvline(actual_hr_rate, color='red', linestyle='--', label='Actual HR Rate (Line)')\n",
        "  plt.title(f\"{batter}: {num_pa} PAs: Actual HR / Rate: {actual_hr_rate:.2f}\")\n",
        "  plt.show()"
      ],
      "metadata": {
        "colab": {
          "base_uri": "https://localhost:8080/",
          "height": 773
        },
        "id": "m2bxXcHu46te",
        "outputId": "bfaa8d09-4c59-41fa-82eb-220c38551d04"
      },
      "execution_count": 70,
      "outputs": [
        {
          "output_type": "display_data",
          "data": {
            "text/plain": [
              "<Figure size 800x400 with 1 Axes>"
            ],
            "image/png": "[encoded data removed]"
          },
          "metadata": {}
        },
        {
          "output_type": "display_data",
          "data": {
            "text/plain": [
              "<Figure size 800x400 with 1 Axes>"
            ],
            "image/png": "[encoded data removed]"
          },
          "metadata": {}
        }
      ]
    }
  ]
}