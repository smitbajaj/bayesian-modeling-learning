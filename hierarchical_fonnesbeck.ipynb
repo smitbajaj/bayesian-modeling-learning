{
  "nbformat": 4,
  "nbformat_minor": 0,
  "metadata": {
    "colab": {
      "provenance": [],
      "machine_shape": "hm",
      "gpuType": "L4",
      "authorship_tag": "ABX9TyOMJ55C7HyLnFj1QPgwZOwi",
      "include_colab_link": true
    },
    "kernelspec": {
      "name": "python3",
      "display_name": "Python 3"
    },
    "language_info": {
      "name": "python"
    },
    "accelerator": "GPU",
    "widgets": {
      "application/vnd.jupyter.widget-state+json": {
        "010bf0485c394c7b83e368f50431c4a2": {
          "model_module": "@jupyter-widgets/output",
          "model_name": "OutputModel",
          "model_module_version": "1.0.0",
          "state": {
            "_dom_classes": [],
            "_model_module": "@jupyter-widgets/output",
            "_model_module_version": "1.0.0",
            "_model_name": "OutputModel",
            "_view_count": null,
            "_view_module": "@jupyter-widgets/output",
            "_view_module_version": "1.0.0",
            "_view_name": "OutputView",
            "layout": "IPY_MODEL_025d3276874c41c19a2df94f9e5ae135",
            "msg_id": "",
            "outputs": [
              {
                "output_type": "display_data",
                "data": {
                  "text/plain": "Sampling 4 chains, 0 divergences \u001b[38;2;23;100;244m━━━━━━━━━━━━━━━━━\u001b[0m\u001b[38;2;23;100;244m╸\u001b[0m\u001b[38;5;237m━━━━━━━━━━━━━━━━━━━━━━\u001b[0m \u001b[35m 44%\u001b[0m \u001b[36m0:00:06\u001b[0m / \u001b[33m0:00:06\u001b[0m\n",
                  "text/html": "<pre style=\"white-space:pre;overflow-x:auto;line-height:normal;font-family:Menlo,'DejaVu Sans Mono',consolas,'Courier New',monospace\">Sampling 4 chains, 0 divergences <span style=\"color: #1764f4; text-decoration-color: #1764f4\">━━━━━━━━━━━━━━━━━╸</span><span style=\"color: #3a3a3a; text-decoration-color: #3a3a3a\">━━━━━━━━━━━━━━━━━━━━━━</span> <span style=\"color: #800080; text-decoration-color: #800080\"> 44%</span> <span style=\"color: #008080; text-decoration-color: #008080\">0:00:06</span> / <span style=\"color: #808000; text-decoration-color: #808000\">0:00:06</span>\n</pre>\n"
                },
                "metadata": {}
              }
            ]
          }
        },
        "025d3276874c41c19a2df94f9e5ae135": {
          "model_module": "@jupyter-widgets/base",
          "model_name": "LayoutModel",
          "model_module_version": "1.2.0",
          "state": {
            "_model_module": "@jupyter-widgets/base",
            "_model_module_version": "1.2.0",
            "_model_name": "LayoutModel",
            "_view_count": null,
            "_view_module": "@jupyter-widgets/base",
            "_view_module_version": "1.2.0",
            "_view_name": "LayoutView",
            "align_content": null,
            "align_items": null,
            "align_self": null,
            "border": null,
            "bottom": null,
            "display": null,
            "flex": null,
            "flex_flow": null,
            "grid_area": null,
            "grid_auto_columns": null,
            "grid_auto_flow": null,
            "grid_auto_rows": null,
            "grid_column": null,
            "grid_gap": null,
            "grid_row": null,
            "grid_template_areas": null,
            "grid_template_columns": null,
            "grid_template_rows": null,
            "height": null,
            "justify_content": null,
            "justify_items": null,
            "left": null,
            "margin": null,
            "max_height": null,
            "max_width": null,
            "min_height": null,
            "min_width": null,
            "object_fit": null,
            "object_position": null,
            "order": null,
            "overflow": null,
            "overflow_x": null,
            "overflow_y": null,
            "padding": null,
            "right": null,
            "top": null,
            "visibility": null,
            "width": null
          }
        }
      }
    }
  },
  "cells": [
    {
      "cell_type": "markdown",
      "metadata": {
        "id": "view-in-github",
        "colab_type": "text"
      },
      "source": [
        "<a href=\"https://colab.research.google.com/github/smitbajaj/phillies-learning/blob/main/hierarchical_fonnesbeck.ipynb\" target=\"_parent\"><img src=\"https://colab.research.google.com/assets/colab-badge.svg\" alt=\"Open In Colab\"/></a>"
      ]
    },
    {
      "cell_type": "markdown",
      "source": [
        "## Set-up & Organizing"
      ],
      "metadata": {
        "id": "sFjiZoB-pBQZ"
      }
    },
    {
      "cell_type": "code",
      "execution_count": 1,
      "metadata": {
        "id": "-wsE9kljn284",
        "colab": {
          "base_uri": "https://localhost:8080/"
        },
        "outputId": "045c2041-aad2-4518-a2ec-60809a9c0745"
      },
      "outputs": [
        {
          "output_type": "stream",
          "name": "stdout",
          "text": [
            "Cloning into 'hierarchical_models_sports_analytics'...\n",
            "remote: Enumerating objects: 27, done.\u001b[K\n",
            "remote: Counting objects: 100% (27/27), done.\u001b[K\n",
            "remote: Compressing objects: 100% (22/22), done.\u001b[K\n",
            "remote: Total 27 (delta 7), reused 21 (delta 4), pack-reused 0 (from 0)\u001b[K\n",
            "Receiving objects: 100% (27/27), 6.57 MiB | 11.63 MiB/s, done.\n",
            "Resolving deltas: 100% (7/7), done.\n"
          ]
        }
      ],
      "source": [
        "!git clone https://github.com/fonnesbeck/hierarchical_models_sports_analytics.git"
      ]
    },
    {
      "cell_type": "code",
      "source": [
        "import arviz as az\n",
        "import matplotlib.pyplot as plt\n",
        "import seaborn as sns\n",
        "import seaborn.objects as so\n",
        "import numpy as np\n",
        "import pandas as pd\n",
        "import polars as pl\n",
        "import pymc as pm\n",
        "import pytensor.tensor as pt\n",
        "\n",
        "import warnings\n",
        "warnings.filterwarnings(\"ignore\", category=UserWarning)\n",
        "\n",
        "RANDOM_SEED = 42\n",
        "\n",
        "print(f\"Running on PyMC v{pm.__version__}\")"
      ],
      "metadata": {
        "colab": {
          "base_uri": "https://localhost:8080/"
        },
        "id": "PbLSeBlWpEMe",
        "outputId": "67dc0c66-23a0-4dae-8c2d-639cae813536"
      },
      "execution_count": 2,
      "outputs": [
        {
          "output_type": "stream",
          "name": "stdout",
          "text": [
            "Running on PyMC v5.19.1\n"
          ]
        }
      ]
    },
    {
      "cell_type": "code",
      "source": [
        "baseball_data = pl.read_csv('/content/hierarchical_models_sports_analytics/data/batter_data.csv')"
      ],
      "metadata": {
        "id": "eM1A1Z8MpLKi"
      },
      "execution_count": 3,
      "outputs": []
    },
    {
      "cell_type": "code",
      "source": [
        "# -- filters out 2023, adds a \"label\" column (uniqueId), drops nulls\n",
        "\n",
        "fitting_subset = baseball_data.filter(pl.col(\"season\") < 2023) # filtering out 2023 & higher\n",
        "\n",
        "fitting_subset = fitting_subset.with_columns(\n",
        "    pl.concat_str([\n",
        "        pl.col(\"name\"),\n",
        "        pl.col(\"season\"),\n",
        "        pl.col(\"team\")\n",
        "    ], separator=\" - \").alias(\"label\")\n",
        ").drop_nulls()"
      ],
      "metadata": {
        "id": "FcuRy5qUpRYM"
      },
      "execution_count": 4,
      "outputs": []
    },
    {
      "cell_type": "code",
      "source": [
        "fitting_subset = fitting_subset.with_columns(\n",
        "    (pl.col(\"hr\") / pl.col(\"num_pa\")).alias(\"hr_rate\")\n",
        ")"
      ],
      "metadata": {
        "id": "faMY0bqgpfYa"
      },
      "execution_count": 5,
      "outputs": []
    },
    {
      "cell_type": "code",
      "source": [
        "hr_rate_data = fitting_subset[\"hr_rate\"].to_numpy()\n",
        "sns.kdeplot(hr_rate_data,fill=True)"
      ],
      "metadata": {
        "colab": {
          "base_uri": "https://localhost:8080/",
          "height": 448
        },
        "id": "-m-3C_HaqlgX",
        "outputId": "d2066288-ae78-4678-f1b9-eac08900888d"
      },
      "execution_count": 6,
      "outputs": [
        {
          "output_type": "execute_result",
          "data": {
            "text/plain": [
              "<Axes: ylabel='Density'>"
            ]
          },
          "metadata": {},
          "execution_count": 6
        },
        {
          "output_type": "display_data",
          "data": {
            "text/plain": [
              "<Figure size 640x480 with 1 Axes>"
            ],
            "image/png": "[encoded data removed]"
          },
          "metadata": {}
        }
      ]
    },
    {
      "cell_type": "markdown",
      "source": [
        "## Modeling"
      ],
      "metadata": {
        "id": "i7Y2nPlarO3v"
      }
    },
    {
      "cell_type": "code",
      "source": [
        "fitting_subset_pandas = fitting_subset.to_pandas()\n",
        "\n",
        "pa = fitting_subset_pandas['num_pa'].to_numpy()\n",
        "hr = fitting_subset_pandas['hr'].to_numpy()\n",
        "\n",
        "coords = {'batter': fitting_subset_pandas['label'].to_numpy()} # - batters & indiv seasons"
      ],
      "metadata": {
        "id": "gWGKZcUWrnxP"
      },
      "execution_count": 7,
      "outputs": []
    },
    {
      "cell_type": "code",
      "source": [
        "with pm.Model(coords=coords) as uninformative_prior_model:\n",
        "\n",
        "    p = pm.Uniform('p', 0, 1, dims='batter') # absolutely uninformed prior -- could be anything b/w 0 and 1\n",
        "\n",
        "    y = pm.Binomial('y', n=pa, p=p, observed=hr, dims='batter') # n: num_samples/PAs\n",
        "                                                                # p: probability of success for each trial\n",
        "                                                                # observed: how many successes were observed\n",
        "                                                                # dimensions: len(fitting_subset_pandas['label'].to_numpy())\n",
        "pm.model_to_graphviz(uninformative_prior_model)"
      ],
      "metadata": {
        "colab": {
          "base_uri": "https://localhost:8080/",
          "height": 353
        },
        "id": "uAZrlr51swy4",
        "outputId": "003a4151-e5af-47bf-e0df-13c7f72b980c"
      },
      "execution_count": 8,
      "outputs": [
        {
          "output_type": "execute_result",
          "data": {
            "image/svg+xml": "<?xml version=\"1.0\" encoding=\"UTF-8\" standalone=\"no\"?>\n<!DOCTYPE svg PUBLIC \"-//W3C//DTD SVG 1.1//EN\"\n \"http://www.w3.org/Graphics/SVG/1.1/DTD/svg11.dtd\">\n<!-- Generated by graphviz version 2.43.0 (0)\n -->\n<!-- Title: %3 Pages: 1 -->\n<svg width=\"136pt\" height=\"249pt\"\n viewBox=\"0.00 0.00 136.00 248.91\" xmlns=\"http://www.w3.org/2000/svg\" xmlns:xlink=\"http://www.w3.org/1999/xlink\">\n<g id=\"graph0\" class=\"graph\" transform=\"scale(1 1) rotate(0) translate(4 244.91)\">\n<title>%3</title>\n<polygon fill=\"white\" stroke=\"transparent\" points=\"-4,4 -4,-244.91 132,-244.91 132,4 -4,4\"/>\n<g id=\"clust1\" class=\"cluster\">\n<title>clusterbatter (1494)</title>\n<path fill=\"none\" stroke=\"black\" d=\"M20,-8C20,-8 108,-8 108,-8 114,-8 120,-14 120,-20 120,-20 120,-220.91 120,-220.91 120,-226.91 114,-232.91 108,-232.91 108,-232.91 20,-232.91 20,-232.91 14,-232.91 8,-226.91 8,-220.91 8,-220.91 8,-20 8,-20 8,-14 14,-8 20,-8\"/>\n<text text-anchor=\"middle\" x=\"76.5\" y=\"-15.8\" font-family=\"Times,serif\" font-size=\"14.00\">batter (1494)</text>\n</g>\n<!-- p -->\n<g id=\"node1\" class=\"node\">\n<title>p</title>\n<ellipse fill=\"none\" stroke=\"black\" cx=\"64\" cy=\"-187.43\" rx=\"45.01\" ry=\"37.45\"/>\n<text text-anchor=\"middle\" x=\"64\" y=\"-198.73\" font-family=\"Times,serif\" font-size=\"14.00\">p</text>\n<text text-anchor=\"middle\" x=\"64\" y=\"-183.73\" font-family=\"Times,serif\" font-size=\"14.00\">~</text>\n<text text-anchor=\"middle\" x=\"64\" y=\"-168.73\" font-family=\"Times,serif\" font-size=\"14.00\">Uniform</text>\n</g>\n<!-- y -->\n<g id=\"node2\" class=\"node\">\n<title>y</title>\n<ellipse fill=\"lightgrey\" stroke=\"black\" cx=\"64\" cy=\"-76.48\" rx=\"48.17\" ry=\"37.45\"/>\n<text text-anchor=\"middle\" x=\"64\" y=\"-87.78\" font-family=\"Times,serif\" font-size=\"14.00\">y</text>\n<text text-anchor=\"middle\" x=\"64\" y=\"-72.78\" font-family=\"Times,serif\" font-size=\"14.00\">~</text>\n<text text-anchor=\"middle\" x=\"64\" y=\"-57.78\" font-family=\"Times,serif\" font-size=\"14.00\">Binomial</text>\n</g>\n<!-- p&#45;&gt;y -->\n<g id=\"edge1\" class=\"edge\">\n<title>p&#45;&gt;y</title>\n<path fill=\"none\" stroke=\"black\" d=\"M64,-149.85C64,-141.67 64,-132.89 64,-124.37\"/>\n<polygon fill=\"black\" stroke=\"black\" points=\"67.5,-124.15 64,-114.15 60.5,-124.15 67.5,-124.15\"/>\n</g>\n</g>\n</svg>\n",
            "text/plain": [
              "<graphviz.graphs.Digraph at 0x7b582e763460>"
            ]
          },
          "metadata": {},
          "execution_count": 8
        }
      ]
    },
    {
      "cell_type": "markdown",
      "source": [
        "### Prior Predictive Sampling"
      ],
      "metadata": {
        "id": "8-EQBoazvnY2"
      }
    },
    {
      "cell_type": "markdown",
      "source": [
        "* In experimenting with 1 sample: run below & the one following: will note that when:\n",
        "\n",
        "* `p = pm.Uniform('p', 0, 1, dims='batter')` then we actually take 1 sample for each batter (so 1554 dimensions) whereas `p = pm.Uniform('p', 0, 1)` is just one sample applied to all batters"
      ],
      "metadata": {
        "id": "8rI3tl-nvpxe"
      }
    },
    {
      "cell_type": "code",
      "source": [
        "with pm.Model(coords=coords) as uninformative_prior_model:\n",
        "  p = pm.Uniform('p', 0, 0.3, dims='batter') # absolutely uninformed prior -- could be anything b/w 0 and 1\n",
        "  # p = pm.Uniform('p', 0, 1) # absolutely uninformed prior -- could be anything b/w 0 and 1\n",
        "  y = pm.Binomial('y', n=pa, p=p, observed=hr, dims='batter') # n: num_samples/PAs\n",
        "  uninformed_prior_trace = pm.sample_prior_predictive(1)"
      ],
      "metadata": {
        "id": "2Go0UtRquU3u"
      },
      "execution_count": 90,
      "outputs": []
    },
    {
      "cell_type": "code",
      "source": [
        "az.plot_dist(uninformed_prior_trace.prior['p'], kind=\"hist\")"
      ],
      "metadata": {
        "colab": {
          "base_uri": "https://localhost:8080/",
          "height": 447
        },
        "id": "1T7kEuNeuc-o",
        "outputId": "057b00ce-4e1b-4d03-e25a-75ad814b2615"
      },
      "execution_count": 91,
      "outputs": [
        {
          "output_type": "execute_result",
          "data": {
            "text/plain": [
              "<Axes: >"
            ]
          },
          "metadata": {},
          "execution_count": 91
        },
        {
          "output_type": "display_data",
          "data": {
            "text/plain": [
              "<Figure size 640x480 with 1 Axes>"
            ],
            "image/png": "[encoded data removed]"
          },
          "metadata": {}
        }
      ]
    },
    {
      "cell_type": "markdown",
      "source": [
        "### Conditioning on Data"
      ],
      "metadata": {
        "id": "pOLDFUXDwO_2"
      }
    },
    {
      "cell_type": "markdown",
      "source": [
        "\n",
        "\n",
        "*   TBD: autocorrelation\n",
        "\n"
      ],
      "metadata": {
        "id": "9thJGNO31-Ne"
      }
    },
    {
      "cell_type": "code",
      "source": [
        "with uninformative_prior_model:\n",
        "  trace = pm.sample(draws=1000, tune=1000, cores=4, chains=4, random_seed=RANDOM_SEED)\n",
        "\n",
        "posterior = az.summary(trace)"
      ],
      "metadata": {
        "colab": {
          "base_uri": "https://localhost:8080/",
          "height": 33,
          "referenced_widgets": [
            "010bf0485c394c7b83e368f50431c4a2",
            "025d3276874c41c19a2df94f9e5ae135"
          ]
        },
        "id": "9GqR5CCKwQVj",
        "outputId": "09812e67-8762-43b7-c982-ce2193c391ef"
      },
      "execution_count": null,
      "outputs": [
        {
          "output_type": "display_data",
          "data": {
            "text/plain": [
              "Output()"
            ],
            "application/vnd.jupyter.widget-view+json": {
              "version_major": 2,
              "version_minor": 0,
              "model_id": "010bf0485c394c7b83e368f50431c4a2"
            }
          },
          "metadata": {}
        }
      ]
    },
    {
      "cell_type": "code",
      "source": [
        "posterior['pa'] = pa\n",
        "posterior.head(3)"
      ],
      "metadata": {
        "id": "OgsJ4PJGw2sc"
      },
      "execution_count": null,
      "outputs": []
    },
    {
      "cell_type": "markdown",
      "source": [
        "\n",
        "*   mean, sd, hdi_3%, hdi_97% — self-explanatory\n",
        "*   mcse_mean, mcse_sd — in practice, make close to 0. represents the uncertainity in some of those metrics ... monte carlo standard error\n",
        "\n"
      ],
      "metadata": {
        "id": "0O5BxaNg11kq"
      }
    },
    {
      "cell_type": "code",
      "source": [
        "# model is expressing uncertainity in its own estimates (based on convergence here).. uncertainity in mean and standard deviation\n",
        "# -- clearly correlated to low PA's which logically tracks, low PAs = higher uncertainity\n",
        "posterior.sort_values(by='mcse_mean',ascending=False).head(5)"
      ],
      "metadata": {
        "id": "Kx3erard2SGG"
      },
      "execution_count": null,
      "outputs": []
    },
    {
      "cell_type": "code",
      "source": [
        "# model is fairly uncertain up until roughly 50 plate appearances - tracks. wonder how that changes with different priors (if at all)\n",
        "posterior[posterior['mcse_mean'] > 0]['pa'].describe()"
      ],
      "metadata": {
        "id": "G9pIhvkR3ha5"
      },
      "execution_count": null,
      "outputs": []
    },
    {
      "cell_type": "code",
      "source": [
        "random_batters = np.random.choice(coords['batter'], size=2, replace=False)\n",
        "\n",
        "for batter in random_batters:\n",
        "\n",
        "  num_pa = fitting_subset_pandas[fitting_subset_pandas['label'] == batter]['num_pa'].values[0]\n",
        "\n",
        "  az.plot_posterior(\n",
        "      trace,\n",
        "      var_names=[\"p\"],\n",
        "      coords={\"batter\": [batter]},\n",
        "      hdi_prob=0.94,\n",
        "      figsize=(8, 4))\n",
        "  plt.title(f\"{batter}: {num_pa} PAs\")\n",
        "  plt.show()"
      ],
      "metadata": {
        "id": "m2bxXcHu46te"
      },
      "execution_count": null,
      "outputs": []
    }
  ]
}